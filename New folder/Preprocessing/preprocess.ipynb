{
  "cells": [
    {
      "cell_type": "markdown",
      "metadata": {
        "id": "AC4bB6WLnx3k"
      },
      "source": [
        "# Data prepocessing"
      ]
    },
    {
      "cell_type": "code",
      "execution_count": null,
      "metadata": {
        "colab": {
          "base_uri": "https://localhost:8080/"
        },
        "id": "n2emdETdkwG1",
        "outputId": "12383c91-c5e5-4496-e299-7461fe510b55"
      },
      "outputs": [
        {
          "name": "stdout",
          "output_type": "stream",
          "text": [
            "Mounted at /content/drive\n"
          ]
        }
      ],
      "source": [
        "from google.colab import drive\n",
        "drive.mount('/content/drive')"
      ]
    },
    {
      "cell_type": "code",
      "execution_count": null,
      "metadata": {
        "id": "ytaSegTzn3Vt"
      },
      "outputs": [],
      "source": [
        "emoticon_dict = {\n",
        "    \":)\": \"smiling\",\n",
        "    \":(\": \"sad\",\n",
        "    \":D\": \"grinning\",\n",
        "    \":P\": \"playful\",\n",
        "    \"XD\": \"laughing\",\n",
        "    \":o\": \"surprised\",\n",
        "    \":|\": \"neutral\",\n",
        "    \":/\": \"skeptical\",\n",
        "    \";)\": \"winking\",\n",
        "    \":'(\": \"crying\",\n",
        "    \":3\": \"cute\",\n",
        "    \":>\": \"smirking\",\n",
        "    \":]\": \"content\",\n",
        "    \":[\": \"disappointed\",\n",
        "    \"=)\": \"happy\",\n",
        "    \"=D\": \"big smile\",\n",
        "    \":^)\": \"happy\",\n",
        "    \"-:)\": \"happy with raised eyebrows\",\n",
        "    \"<.<\": \"suspicious\",\n",
        "    \">_>\": \"suspicious\",\n",
        "    \":-@\": \"angry or shouting\",\n",
        "    \":-$\": \"embarrassed\",\n",
        "    \"^_^;\": \"awkward\",\n",
        "    \"T_T\": \"crying\",\n",
        "    \";_;\": \"crying\",\n",
        "    \"TT_TT\": \"crying hard\",\n",
        "    \">:3\": \"smiling devilishly\",\n",
        "    \"-_-;\": \"sweating\",\n",
        "    \"(^_^)\": \"smiling cheerfully\",\n",
        "    \"(>_<)\": \"frustrated\",\n",
        "    \"(T_T)\": \"sad\",\n",
        "    \"(^_^)b\": \"thumbs up\",\n",
        "    \"(^.^)\": \"smiling\",\n",
        "    \"(-_-)zzz\": \"sleeping\",\n",
        "    \"(._.)\": \"ashamed\",\n",
        "    \"(>w<)\": \"super happy\",\n",
        "    \"d(^_^)b\": \"rocking out\",\n",
        "    \"(¬_¬)\": \"unamused\",\n",
        "    \"(¬_¬)ﾉ\": \"waving hand dismissively\",\n",
        "    \"(ಠ_ಠ)\": \"disapproval\",\n",
        "    \"(ಠ‿ಠ)\": \"smirking\",\n",
        "    \"(✧ω✧)\": \"excited\",\n",
        "    \"(ง'̀-'́)ง\": \"ready to fight\",\n",
        "    \"(╯°□°）╯︵ ┻━┻\": \"table flip (angry)\",\n",
        "    \"(ノಠ益ಠ)ノ彡┻━┻\": \"extremely angry\",\n",
        "    \"(╥﹏╥)\": \"crying heavily\",\n",
        "    \"(¬‿¬)\": \"playful or mischievous\",\n",
        "    \"(/◕ヮ◕)/\": \"cheerful\",\n",
        "    \"(⊙_☉)\": \"shocked\",\n",
        "    \"(⊙﹏⊙)\": \"confused\",\n",
        "    \"(¬‿¬)\": \"smug\",\n",
        "    \"ლ(ಠ益ಠლ)\": \"angry or frustrated\",\n",
        "    \"(°ロ°)\": \"surprised\",\n",
        "    \"(☞ﾟヮﾟ)☞\": \"pointing playfully\",\n",
        "    \"(❍ᴥ❍ʋ)\": \"cute dog\",\n",
        "    \"(ʘ‿ʘ)\": \"excited\",\n",
        "    \"ಠ_ಠ\": \"disapproving\",\n",
        "    \"(¬_¬)ノ\": \"dismissive\",\n",
        "    \"(⊙_☉)\": \"wide-eyed surprise\",\n",
        "    \"(╯︵╰,)\": \"disappointed\",\n",
        "    \"(ノ_＜)\": \"sad and apologetic\",\n",
        "    \"(✿◠‿◠)\": \"cheerful and happy\",\n",
        "    \"(☞ﾟヮﾟ)☞\": \"pointing cheerfully\",\n",
        "    \"(✌ﾟ∀ﾟ)☞\": \"peace sign pointing\",\n",
        "    \"(シ_ _)シ\": \"apologizing\",\n",
        "    \"(●´ω｀●)\": \"shy\",\n",
        "    \"(´• ω •`)\": \"cute\",\n",
        "    \"(ง° ͜ʖ°)ง\": \"challenging\",\n",
        "    \"(╬ಠ益ಠ)\": \"enraged\",\n",
        "    \"ヾ(＠＾▽＾＠)ﾉ\": \"excited\",\n",
        "    \"(* >ω<)\": \"embarrassed\",\n",
        "    \"┐(￣ヘ￣)┌\": \"shrugging\",\n",
        "    \"(´・ω・｀)\": \"sad\",\n",
        "    \"(・_・;)\": \"nervous\",\n",
        "    \"( •_•)>⌐■-■\": \"cool\",\n",
        "    \"(⌐■_■)\": \"cool\",\n",
        "    \"( •_•)ノ\": \"wave\",\n",
        "    \"^_^\": \"happy\",\n",
        "    \">_<\": \"frustrated\",\n",
        "    \"^o^\": \"excited\",\n",
        "    \":s\": \"confused\",\n",
        "    \":S\": \"worried\",\n",
        "    \"o_o\": \"surprised\",\n",
        "    \"O_o\": \"skeptical\",\n",
        "    \"-_-\": \"tired\",\n",
        "    \">:)\": \"mischievous\",\n",
        "    \"<:)\": \"innocent\",\n",
        "    \":')\": \"tears of joy\",\n",
        "    \">.<\": \"annoyed\",\n",
        "    \"-.-\": \"bored\",\n",
        "    \"D:\": \"shocked\",\n",
        "    \":x\": \"kiss\",\n",
        "    \":X\": \"kiss\",\n",
        "    \"<3\": \"heart\",\n",
        "    \"</3\": \"broken heart\",\n",
        "    \":L\": \"frustrated\",\n",
        "    \"=3\": \"cat smile\",\n",
        "    \":B\": \"nerdy\",\n",
        "    \":z\": \"sleepy\",\n",
        "    \":t\": \"thinking\",\n",
        "    \"B|\": \"cool\",\n",
        "    \"(:)\": \"monkey face\",\n",
        "    \":-)\": \"happy face\",\n",
        "    \":))\": \"laughing\",\n",
        "    \"=))\": \"laughing harder\",\n",
        "    \":>\": \"smirking\",\n",
        "    \":}\": \"sly smile\"\n",
        "}\n"
      ]
    },
    {
      "cell_type": "code",
      "execution_count": null,
      "metadata": {
        "colab": {
          "base_uri": "https://localhost:8080/"
        },
        "id": "65ii53QOn_Jb",
        "outputId": "fd32887c-627f-4540-c08d-a354e7a85c0f"
      },
      "outputs": [
        {
          "name": "stdout",
          "output_type": "stream",
          "text": [
            "\u001b[2K   \u001b[90m━━━━━━━━━━━━━━━━━━━━━━━━━━━━━━━━━━━━━━━━\u001b[0m \u001b[32m8.5/8.5 MB\u001b[0m \u001b[31m31.5 MB/s\u001b[0m eta \u001b[36m0:00:00\u001b[0m\n",
            "\u001b[2K   \u001b[90m━━━━━━━━━━━━━━━━━━━━━━━━━━━━━━━━━━━━━━━━\u001b[0m \u001b[32m1.2/1.2 MB\u001b[0m \u001b[31m61.4 MB/s\u001b[0m eta \u001b[36m0:00:00\u001b[0m\n",
            "\u001b[2K   \u001b[90m━━━━━━━━━━━━━━━━━━━━━━━━━━━━━━━━━━━━━━━━\u001b[0m \u001b[32m11.0/11.0 MB\u001b[0m \u001b[31m2.1 MB/s\u001b[0m eta \u001b[36m0:00:00\u001b[0m\n",
            "\u001b[2K   \u001b[90m━━━━━━━━━━━━━━━━━━━━━━━━━━━━━━━━━━━━━━━━\u001b[0m \u001b[32m591.2/591.2 kB\u001b[0m \u001b[31m36.5 MB/s\u001b[0m eta \u001b[36m0:00:00\u001b[0m\n",
            "\u001b[2K   \u001b[90m━━━━━━━━━━━━━━━━━━━━━━━━━━━━━━━━━━━━━━━━\u001b[0m \u001b[32m235.5/235.5 kB\u001b[0m \u001b[31m18.0 MB/s\u001b[0m eta \u001b[36m0:00:00\u001b[0m\n",
            "\u001b[2K   \u001b[90m━━━━━━━━━━━━━━━━━━━━━━━━━━━━━━━━━━━━━━━━\u001b[0m \u001b[32m586.9/586.9 kB\u001b[0m \u001b[31m26.2 MB/s\u001b[0m eta \u001b[36m0:00:00\u001b[0m\n",
            "\u001b[?25h"
          ]
        }
      ],
      "source": [
        "!pip install -q pyvi\n",
        "!pip install -q underthesea==1.3.5a3\n",
        "!pip install -q underthesea[deep]\n",
        "!pip install -q emoji"
      ]
    },
    {
      "cell_type": "code",
      "execution_count": null,
      "metadata": {
        "id": "yzdrg1LLoAsG"
      },
      "outputs": [],
      "source": [
        "from pyvi import ViUtils, ViTokenizer\n",
        "from difflib import SequenceMatcher\n",
        "import underthesea\n",
        "from pyvi import ViTokenizer\n",
        "import re\n",
        "import emoji\n",
        "import json\n",
        "\n",
        "class TextPreprocessing():\n",
        "    def __init__(self, stopwords_path='VNese_stopwords.txt', slang_path='replace_slang.txt'):   #cần tinh chỉnh\n",
        "        with open(stopwords_path, 'rb') as f:\n",
        "            lines = f.readlines()\n",
        "        self.stop_words = [line.decode('utf8').replace('\\n','') for line in lines]\n",
        "        self.slang_dict = self.load_slang_dict(slang_path)\n",
        "        self.emoticon_pattern = re.compile('|'.join(map(re.escape, sorted(emoticon_dict, key=len, reverse=True))))\n",
        "        self.max_text_length = 2000  # Độ dài tối đa cho caption\n",
        "        self.min_text_length = 0   # Độ dài tối thiểu cho caption\n",
        "\n",
        "    def process_text(self, text):\n",
        "        if len(text) < self.min_text_length:\n",
        "            return None\n",
        "        if len(text) > self.max_text_length:\n",
        "            return text[:self.max_text_length] + \"...\"\n",
        "        return text\n",
        "\n",
        "    # Hàm load slang dictionary từ file .txt\n",
        "    def load_slang_dict(self, slang_path):\n",
        "        slang_dict = {}\n",
        "        with open(slang_path, 'r') as file:\n",
        "            for line in file:\n",
        "                if \": \" in line:\n",
        "                    slang, full_form = line.strip().split(\": \", 1)\n",
        "                    slang_dict[slang] = full_form\n",
        "        return slang_dict\n",
        "\n",
        "    # Hàm thay thế từ viết tắt bằng từ đầy đủ\n",
        "    def replace_slang(self, text):\n",
        "        for slang, full_form in self.slang_dict.items():\n",
        "            text = re.sub(r'\\b{}\\b'.format(re.escape(slang)), full_form, text)\n",
        "        return text\n",
        "\n",
        "    #Xóa stopword\n",
        "    def remove_stopwords(self, text):\n",
        "        text = ViTokenizer.tokenize(text)\n",
        "        filtered_words = [w for w in text.split() if w not in self.stop_words]\n",
        "        return \" \".join(filtered_words).replace(\"_\", \" \")\n",
        "\n",
        "    #Chuyển đổi tất cả thành chữ thường\n",
        "    def lowercasing(self, text):\n",
        "        return text.lower()\n",
        "\n",
        "    #Loại bỏ các kí tự không quan trọng & dấu câu. Giữ lại !? vì có thể mang sắc thái mỉa mai, #: hashtag\n",
        "    def replace_punctuation(self, text):\n",
        "        text = re.sub(r'[^\\w\\s!?#]', '', text)\n",
        "        return text\n",
        "\n",
        "    # Loại bỏ URL khỏi văn bản\n",
        "    def remove_urls(self, text):\n",
        "        url_pattern = r'http[s]?\\S+'  # Tìm các URL bắt đầu bằng http hoặc https\n",
        "        text = re.sub(url_pattern, '', text)\n",
        "        return text\n",
        "\n",
        "    def convert_emoticons_and_emoji(self, text):\n",
        "      # Chuyển đổi emoticon thành mô tả\n",
        "      text = self.emoticon_pattern.sub(lambda match: f\":{emoticon_dict[match.group(0)]}:\", text)\n",
        "      # Chuyển đổi emoji thành mô tả\n",
        "      return emoji.demojize(text, delimiters=(\":\", \":\"))\n",
        "\n",
        "    def __call__(self, text):\n",
        "        if len(text) > 300:              #Xóa stopwords nếu caption dài hơn 300\n",
        "            text = self.remove_stopwords(text)\n",
        "\n",
        "        text = self.replace_punctuation(text)  #Loại bỏ các ký tự không quan trọng\n",
        "        text = self.process_text(text)\n",
        "        text = self.lowercasing(text)    #Chuyển thành chữ thường\n",
        "        text = self.replace_slang(text)  #Thay thế từ viết tắt bằng từ đầy đủ\n",
        "\n",
        "\n",
        "        text = self.remove_urls(text)  # Loại bỏ URL\n",
        "        text = self.convert_emoticons_and_emoji(text)  # Chuyển đổi emotion và emoji\n",
        "        return text\n"
      ]
    }
  ],
  "metadata": {
    "accelerator": "GPU",
    "colab": {
      "gpuType": "T4",
      "provenance": []
    },
    "kernelspec": {
      "display_name": "Python 3",
      "name": "python3"
    },
    "language_info": {
      "name": "python"
    }
  },
  "nbformat": 4,
  "nbformat_minor": 0
}
