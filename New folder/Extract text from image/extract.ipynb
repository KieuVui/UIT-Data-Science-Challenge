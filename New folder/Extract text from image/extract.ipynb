{
  "cells": [
    {
      "cell_type": "markdown",
      "metadata": {
        "id": "roMp3_pMCzMP"
      },
      "source": [
        "# Extracted"
      ]
    },
    {
      "cell_type": "code",
      "execution_count": null,
      "metadata": {
        "collapsed": true,
        "id": "O16ABS5NOtQD"
      },
      "outputs": [],
      "source": [
        "!pip install -q vietocr\n",
        "!pip install -q paddlepaddle\n",
        "!pip install -q paddleocr"
      ]
    },
    {
      "cell_type": "code",
      "execution_count": null,
      "metadata": {
        "id": "Akf-7lMzWt6c"
      },
      "outputs": [],
      "source": [
        "import matplotlib.pyplot as plt\n",
        "from PIL import Image\n",
        "\n",
        "from vietocr.tool.predictor import Predictor\n",
        "from vietocr.tool.config import Cfg\n",
        "from paddleocr import PaddleOCR"
      ]
    },
    {
      "cell_type": "code",
      "execution_count": null,
      "metadata": {
        "collapsed": true,
        "id": "jy9nFAQwWvy_"
      },
      "outputs": [],
      "source": [
        "config = Cfg.load_config_from_name('vgg_seq2seq')\n",
        "config['predictor']['beamsearch']=False\n",
        "config['device'] = 'cuda'\n",
        "config['weights'] = 'vietocr/transformerocr.pth'\n",
        "detector = Predictor(config)"
      ]
    },
    {
      "cell_type": "code",
      "execution_count": null,
      "metadata": {
        "collapsed": true,
        "id": "w6BWREslX6fK"
      },
      "outputs": [],
      "source": [
        "ocr = PaddleOCR(use_angle_cls=True, lang='en') # need to run only once to download and load model into memory"
      ]
    },
    {
      "cell_type": "code",
      "execution_count": null,
      "metadata": {
        "id": "f8J2Vd8PYTdf"
      },
      "outputs": [],
      "source": [
        "def image_to_text(image):\n",
        "    import cv2\n",
        "    image = cv2.cvtColor(image, cv2.COLOR_BGR2GRAY)  # Chuyển sang ảnh đen trắng\n",
        "    image = cv2.GaussianBlur(image, (3, 3), 0)       # Làm mờ để giảm nhiễu\n",
        "    # Detect line\n",
        "    result = ocr.ocr(image, rec=False)\n",
        "\n",
        "    # Get bbox\n",
        "    xs = []\n",
        "    ys = []\n",
        "    ws = []\n",
        "    hs = []\n",
        "    list_text = []\n",
        "\n",
        "    image = Image.fromarray(image)\n",
        "    # Create df\n",
        "    for line in result:\n",
        "        # Kiểm tra nếu `line` chứa tọa độ hộp bao\n",
        "        if line is None or len(line) < 1:\n",
        "            continue\n",
        "        for bbox_points in line:\n",
        "        # Giả sử `line` chứa danh sách các tọa độ tại `line[0]`\n",
        "            try:\n",
        "                x_coords = [point[0] for point in bbox_points]\n",
        "                y_coords = [point[1] for point in bbox_points]\n",
        "                x1, y1 = min(x_coords), min(y_coords)\n",
        "                x3, y3 = max(x_coords), max(y_coords)\n",
        "                bbox = (x1 - 10, y1 - 10, x3 + 10, y3 + 10)\n",
        "            except (IndexError, TypeError):\n",
        "                continue\n",
        "\n",
        "            xs.append(bbox[0])\n",
        "            ys.append(bbox[1])\n",
        "            ws.append(bbox[2])\n",
        "            hs.append(bbox[3])\n",
        "            new_image = image.crop(bbox)\n",
        "            list_text.append(detector.predict(new_image))\n",
        "\n",
        "    bbox_df = pd.DataFrame({'x': xs, 'y': ys, 'w': ws, 'h': hs, 'text': list_text})\n",
        "    bbox_df_reversed = bbox_df[bbox_df['text'].str.len() >= 4].iloc[::-1].reset_index(drop=True)\n",
        "    text_combined = '\\n'.join(bbox_df_reversed['text'])\n",
        "    return text_combined"
      ]
    },
    {
      "cell_type": "code",
      "execution_count": null,
      "metadata": {
        "id": "H8_4MjXcYgZd"
      },
      "outputs": [],
      "source": [
        "import numpy as np\n",
        "def extract_text_from_image(image_path):\n",
        "    # Mở ảnh từ đường dẫn\n",
        "    image = Image.open(image_path)\n",
        "\n",
        "    image = np.array(image)\n",
        "\n",
        "    extracted_text = image_to_text(image)\n",
        "    if not extracted_text.strip():\n",
        "        return None\n",
        "    return extracted_text"
      ]
    }
  ],
  "metadata": {
    "accelerator": "GPU",
    "colab": {
      "gpuType": "T4",
      "provenance": []
    },
    "kernelspec": {
      "display_name": "Python 3",
      "name": "python3"
    },
    "language_info": {
      "name": "python"
    }
  },
  "nbformat": 4,
  "nbformat_minor": 0
}
